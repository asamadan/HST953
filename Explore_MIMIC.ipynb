{
 "cells": [
  {
   "cell_type": "markdown",
   "metadata": {},
   "source": [
    "# Exploring structured entries in MIMIC"
   ]
  },
  {
   "cell_type": "code",
   "execution_count": 1,
   "metadata": {},
   "outputs": [],
   "source": [
    "# Import libraries\n",
    "import numpy as np\n",
    "import pandas as pd\n",
    "import matplotlib.pyplot as plt\n",
    "import psycopg2\n",
    "\n",
    "# below imports are used to print out pretty pandas dataframes\n",
    "from IPython.display import display, HTML\n",
    "\n",
    "%matplotlib inline\n",
    "plt.style.use('ggplot')\n",
    "\n",
    "# information used to create a database connection\n",
    "sqluser = 'asamadan'\n",
    "dbname = 'mimic'\n",
    "schema_name = 'mimiciii'\n",
    "\n",
    "# Connect to postgres with a copy of the MIMIC-III database\n",
    "con = psycopg2.connect(dbname=dbname, user=sqluser)\n",
    "\n",
    "# # the below statement is prepended to queries to ensure they select from the right schema\n",
    "# query_schema = 'set search_path to ' + schema_name + ';'"
   ]
  },
  {
   "cell_type": "code",
   "execution_count": 2,
   "metadata": {},
   "outputs": [],
   "source": [
    "# read tables and set 'subject_id' as index\n",
    "Tables = ['admissions', \n",
    "          'patients', \n",
    "          'ICUstays',\n",
    "          'diagnoses_icd',\n",
    "          'procedures_icd',\n",
    "          'callout']\n",
    "for x in Tables:\n",
    "    exec(\"%s = pd.read_sql('select * from mimiciii.%s', con).set_index('subject_id', drop=False)\"%(x,x))\n",
    "    "
   ]
  },
  {
   "cell_type": "markdown",
   "metadata": {},
   "source": [
    "## Merge the tables\n",
    "- Admissions\n",
    "- Patients\n",
    "- ICUstays\n",
    "- Diagnosis\n",
    "    - There are multiple diagnosis for each patient. For now, the top diagnosis is used\n",
    "- Callout\n",
    "- Procedures_icd\n",
    "    - There are multiple procedures for each patient. For now, the top diagnosis is used\n"
   ]
  },
  {
   "cell_type": "code",
<<<<<<< HEAD
   "execution_count": 4,
=======
   "execution_count": 3,
>>>>>>> aeb09774651e8497e7df6fc477838e86a061fc0b
   "metadata": {
    "collapsed": true
   },
   "outputs": [],
   "source": [
    "diagnoses_icd  = diagnoses_icd.groupby(diagnoses_icd.index).apply(lambda x:x[x['seq_num'] == 1])\n",
    "procedures_icd = procedures_icd.groupby(procedures_icd.index).apply(lambda x:x[x['seq_num'] == 1])\n",
    "# # confirming that only the top diagnosis is returned \n",
    "# diagnoses_icd.seq_num.value_counts()\n",
    "# procedures_icd.seq_num.value_counts()\n"
   ]
  },
  {
   "cell_type": "code",
   "execution_count": 4,
   "metadata": {
    "collapsed": true
   },
   "outputs": [],
   "source": [
    "# Merge the tables\n",
    "import functools\n",
    "\n",
    "# first merge admissions with patient based on 'subject_id'\n",
    "admissions       = pd.merge(admissions, patients[patients.columns.difference(admissions.columns)],\n",
    "                            how='left', left_index=True, right_index=True)\n",
    "\n",
    "# set 'hadm_id' as index for the remaning tables and admissions\n",
    "for x in ['admissions', 'ICUstays', 'diagnoses_icd', 'callout']:\n",
    "    eval(\"%s.set_index('hadm_id', drop=False, inplace=True)\"%x)\n",
    "    \n",
    "# then, merge the resulting admissions with the rest of the tables using 'hadm_id'\n",
    "dfs              = [admissions, ICUstays, diagnoses_icd, callout]\n",
    "# Data             = [pd.merge(left,right, how='left', on='subject_id') for left, right in zip(dfs, dfs[1:])]\n",
    "Data             = functools.reduce(lambda left,right: \n",
    "                                    pd.merge(left,right[right.columns.difference(left.columns)], \n",
    "                                             how='left', left_index=True, right_index=True), dfs)\n"
   ]
  },
  {
   "cell_type": "markdown",
   "metadata": {},
   "source": [
    "## FF vs NFF \n",
    "- This function takes admission for a subject and determines whether the subject is a FF or NFF\n"
   ]
  },
  {
   "cell_type": "code",
   "execution_count": 5,
   "metadata": {
    "collapsed": true
   },
   "outputs": [],
   "source": [
    "def SubjectCheck(subject):\n",
    "    data = None\n",
    "    NFF = 0\n",
    "    if len(subject) > 2:\n",
    "        Admission_Time = subject.admittime\n",
    "        # gaps between every second admissions\n",
    "        Inter_Admission_Gaps = np.array([(Admission_Time.iloc[x+2]-Admission_Time.iloc[x])/np.timedelta64(1, 'D')\n",
    "         for x in range(len(subject)-2)] )       \n",
    "\n",
    "        # for FF, we take their first admission\n",
    "        if sum(Inter_Admission_Gaps<365):\n",
    "            # take the first ICU admisson\n",
    "            # appending the label to the end of the array\n",
    "            return np.append(subject.iloc[np.where(Inter_Admission_Gaps<365)[0][0]].values, 1)\n",
    "        else: # not a FF\n",
    "            NFF = 1\n",
    "    \n",
    "    if len(subject) < 2 or NFF:\n",
    "        # check if the patient is still alive\n",
    "        if not(subject.expire_flag.iloc[0]):\n",
    "            # appending the label to the end of the array\n",
    "            return np.append(subject.iloc[0].values, 0)\n",
    "#         else: \n",
    "#             data = None\n",
    "#     return data\n",
    "        \n",
    "DATA = {}        \n",
    "for subject, subject_data in Data.groupby('subject_id'):\n",
    "     \n",
    "    DATA[subject] = SubjectCheck(subject_data)"
   ]
  },
  {
   "cell_type": "code",
   "execution_count": 6,
   "metadata": {
    "collapsed": true
   },
   "outputs": [],
   "source": [
    "# convert dictionary to dataframe and label as the last column\n",
    "DATA = dict((key,x) for key,x in DATA.items() if x is not None)\n",
    "a = pd.DataFrame.from_dict(DATA, orient='index')\n",
    "a.columns = np.append(Data.columns, 'Label')\n",
    "\n"
   ]
  },
  {
   "cell_type": "code",
   "execution_count": 7,
   "metadata": {},
   "outputs": [
    {
     "name": "stdout",
     "output_type": "stream",
     "text": [
      "4 days\n",
      "2 days 17:31:58\n"
     ]
    },
    {
     "data": {
      "text/plain": [
       "<matplotlib.axes._subplots.AxesSubplot at 0x7fd571890978>"
      ]
     },
     "execution_count": 7,
     "metadata": {},
     "output_type": "execute_result"
    },
    {
     "data": {
      "image/png": "iVBORw0KGgoAAAANSUhEUgAAAZgAAAD8CAYAAABKKbKtAAAABHNCSVQICAgIfAhkiAAAAAlwSFlz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\nZb/LWVumDUoAAAAASUVORK5CYII=\n",
      "text/plain": [
       "<matplotlib.figure.Figure at 0x7fd5be07b588>"
      ]
     },
     "metadata": {},
     "output_type": "display_data"
    }
   ],
   "source": [
    "import sys \n",
    "a.admittime-a.dob\n",
    "a.dob.iloc[0],a.admittime.iloc[0]\n",
    "a.last_careunit.value_counts()\n",
    "print('%s'%np.percentile(a.dischtime - a.outtime,75).astype('timedelta64[D]'))\n",
    "print('%s'%(a.dischtime - a.outtime).median())\n",
    "\n",
    "aaF = (abs(a.dischtime.loc[a.Label==1]-a.outtime.loc[a.Label==1])/np.timedelta64(1,'D')) \n",
    "aaNF= (abs(a.dischtime.loc[a.Label==0]-a.outtime.loc[a.Label==0])/np.timedelta64(1,'D')) \n",
    "\n",
    "# replace close to zero values with epsilon\n",
    "aaF.loc[aaF<sys.float_info.epsilon] = sys.float_info.epsilon\n",
    "aaNF.loc[aaNF<sys.float_info.epsilon] = sys.float_info.epsilon\n",
    "\n",
    "\n",
    "pd.DataFrame({'FF': aaF, 'NFF': aaNF}).plot(kind='hist',alpha =0.5)"
   ]
  },
  {
   "cell_type": "markdown",
   "metadata": {},
   "source": [
    "# Structured variables:\n",
    "- Admission type\n",
    "- Admission location\n",
    "- Discharge location\n",
    "- Insurance type\n",
    "- Marital status\n",
    "- Diagnosis\n",
    "    - There are multiple diagnoses for each patient. There are two ways to handle this\n",
    "        1. Only consider the top diagnosis based on `seq_num` from `diagnoses_icd` table\n",
    "        2. Create one-hot-encoding of all icd codes, so that an icd code `A` is boolean features that will be `ON` if a patient is diagnosed to have `A`.\n",
    "    - A smaller set of diagnosis may be created by consolidated similar conditions e.g., \n",
    "    1. CORONARY ARTERY DISEASE\\CORONARY ARTERY BYPASS GRAFT /SDA \n",
    "    2. CORONARY ARTERY DISEASE\\CORONARY ARTERY BYPASS GRAFT/SDA (notice spacing differnce)\n",
    "    \n",
    "- Age (Admission time - DOB: a.admittime-a.dob)\n",
    "    - Probably, we need to bin the age into 3 to 4 groups (e.g., newborns?, $<$75, 75-89, $>$90)\n",
    "- Gender \n",
    "- Care unit   \n",
    "    - First care unit\n",
    "    - Last care unit\n",
    "- Length of stay (Icustays)\n",
    "\n",
    "- `CALLOUT`\n",
    " - Binary requests indicating special precausions requested for the patient in the subsequent ward\n",
    "     -`REQUEST_TELE`, `REQUEST_RESP`, `REQUEST_CDIFF`, `REQUEST_MRSA`, `REQUEST_VRE`\n",
    " - DISCHARGE_WARDID\n",
    "\n",
    "## Frequent flyer indicator\n",
    "    - Label column\n",
    "\n",
    "## Potential derived features\n",
    "- Admission time\n",
    "    - season\n",
    "    - time of the day\n",
    "    - day of the week (weekday vs weekend)\n",
    "- Discrepancies between first and last care units,\n",
    "    - First care unit == Last care unit (5% of patients have different first and last care units)\n",
    "    \n",
    "- Time between ICU discharge and hospital discharge\n",
    "    - Discharge time - Out time ==> (median = 2 days, IQR (1-4 days))\n",
    "        - I think this information is also available in the `CALLOUT` table\n",
    "    \n",
    "\n"
   ]
  },
  {
   "cell_type": "markdown",
   "metadata": {},
   "source": [
    "# Classification\n",
    "- Start with Logistic regression, evaluated using 100 (70/30% train/test) subsamples\n"
   ]
  },
  {
   "cell_type": "code",
   "execution_count": 8,
   "metadata": {
    "collapsed": true
   },
   "outputs": [],
   "source": [
    "# drop irrelevant col\n",
    "a.drop(['language', 'religion','ethnicity', 'diagnosis','icd9_code',\n",
    "       'dbsource', \n",
    "       'row_id',\n",
    "       'subject_id',\n",
    "       'hadm_id',\n",
    "       'dischtime',\n",
    "       'deathtime',\n",
    "       'edregtime',\n",
    "       'edouttime',\n",
    "       'hospital_expire_flag',\n",
    "       'has_chartevents_data',\n",
    "       'dod',\n",
    "       'dod_hosp',\n",
    "       'dod_ssn',\n",
    "       'expire_flag',\n",
    "       'first_wardid',\n",
    "       'icustay_id',\n",
    "       'intime',\n",
    "       'last_wardid',\n",
    "       'outtime',\n",
    "       'seq_num',\n",
    "       'acknowledge_status',\n",
    "       'acknowledgetime',\n",
    "       'callout_outcome',\n",
    "       'callout_service',\n",
    "       'callout_status',\n",
    "       'callout_wardid',\n",
    "       'createtime',\n",
    "       'curr_careunit',\n",
    "       'curr_wardid',\n",
    "       'currentreservationtime',\n",
    "       'discharge_wardid',\n",
    "       'firstreservationtime',\n",
    "       'outcometime',\n",
    "       'submit_careunit',\n",
    "       'submit_wardid',\n",
    "       'updatetime'], axis=1, inplace=True)"
   ]
  },
  {
   "cell_type": "code",
<<<<<<< HEAD
   "execution_count": 10,
=======
   "execution_count": 9,
>>>>>>> aeb09774651e8497e7df6fc477838e86a061fc0b
   "metadata": {
    "collapsed": true
   },
   "outputs": [],
   "source": [
    "# Compute Age and define bins\n",
    "Age = (a.admittime-a.dob)/np.timedelta64(1,'Y')\n",
    "Age.loc[np.logical_and(Age>0, Age<=1)]   = 1\n",
    "Age.loc[np.logical_and(Age>1, Age<=25)]  = 2\n",
    "Age.loc[np.logical_and(Age>25, Age<=50)] = 3\n",
    "Age.loc[np.logical_and(Age>50, Age<=75)] = 4\n",
    "Age.loc[np.logical_and(Age>75, Age<=90)] = 5\n",
    "Age.loc[Age<0]                           = 6\n",
    "a.drop(['admittime','dob'], axis=1, inplace=True)\n",
    "a.Age = Age"
   ]
  },
  {
   "cell_type": "code",
<<<<<<< HEAD
   "execution_count": 11,
=======
   "execution_count": 10,
>>>>>>> aeb09774651e8497e7df6fc477838e86a061fc0b
   "metadata": {
    "collapsed": true
   },
   "outputs": [],
   "source": [
    "# prepare the data for classificaton\n",
    "Categorical_cols = a.select_dtypes(['object']).columns\n",
    "for x in Categorical_cols:\n",
    "    a[x] = a[x].astype('category')\n",
    "    a[x] = a[x].cat.codes"
   ]
  },
  {
   "cell_type": "code",
<<<<<<< HEAD
   "execution_count": 35,
=======
   "execution_count": 11,
>>>>>>> aeb09774651e8497e7df6fc477838e86a061fc0b
   "metadata": {
    "collapsed": true
   },
   "outputs": [],
   "source": [
    "# I am going to remove the request cols for now as they are full of NaNs\n",
    "a.drop([x for x in a.columns if 'request' in x], axis=1, inplace=True)"
   ]
  },
  {
   "cell_type": "code",
<<<<<<< HEAD
   "execution_count": 92,
=======
   "execution_count": 12,
>>>>>>> aeb09774651e8497e7df6fc477838e86a061fc0b
   "metadata": {
    "collapsed": true
   },
   "outputs": [],
   "source": [
    "X = a.iloc[:,:-1] # variables\n",
    "y = a.iloc[:,-1] #labels"
   ]
  },
  {
   "cell_type": "code",
   "execution_count": 13,
   "metadata": {},
   "outputs": [
    {
     "data": {
      "image/png": "iVBORw0KGgoAAAANSUhEUgAAAZgAAAD9CAYAAACBdWEIAAAABHNCSVQICAgIfAhkiAAAAAlwSFlz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\nRERMoYIRERFT/D/h4jW0G7dmrQAAAABJRU5ErkJggg==\n",
      "text/plain": [
       "<matplotlib.figure.Figure at 0x7fd571888eb8>"
      ]
     },
     "metadata": {},
     "output_type": "display_data"
    }
   ],
   "source": [
    "# finding cols with NaN\n",
    "X.isnull().any()\n",
    "X.los.plot.hist(bins = 5)\n",
    "Los = X.los\n",
    "X.drop('los', axis=1, inplace=True)"
   ]
  },
  {
   "cell_type": "code",
<<<<<<< HEAD
   "execution_count": 81,
   "metadata": {
    "collapsed": true
   },
=======
   "execution_count": 14,
   "metadata": {},
>>>>>>> aeb09774651e8497e7df6fc477838e86a061fc0b
   "outputs": [],
   "source": [
    "from sklearn.linear_model import LogisticRegression, SGDClassifier\n",
    "from sklearn.model_selection import train_test_split, StratifiedShuffleSplit, cross_val_score\n",
    "\n",
    "LR_clf  = LogisticRegression(penalty='l2')#, class_weight='balanced')\n",
    "# SGD_clf = SGDClassifier(loss='log', penalty='elasticnet', alpha = 0.01, l1_ratio=0.5, n_jobs=-1)\n",
    "\n",
    "RandomSplits = StratifiedShuffleSplit(n_splits=100, test_size=0.3)\n",
    "\n",
<<<<<<< HEAD
    "Scores=cross_val_score(LR_clf, X, y, cv=RandomSplits, scoring='roc_auc',n_jobs=-1)"
   ]
  },
  {
   "cell_type": "code",
   "execution_count": 134,
   "metadata": {
    "collapsed": true
   },
   "outputs": [],
   "source": [
=======
    "# Scores=cross_val_score(LR_clf, X, y, cv=RandomSplits, scoring='roc_auc')\n",
    "\n",
>>>>>>> aeb09774651e8497e7df6fc477838e86a061fc0b
    "Coef = {}\n",
    "from sklearn.metrics import roc_auc_score\n",
    "Scores=[]\n",
    "d = 0\n",
    "for train_indices, test_indices in RandomSplits.split(X,y):\n",
    "    model = LR_clf.fit(X.iloc[train_indices], y.iloc[train_indices])\n",
    "    Scores.append(roc_auc_score(y.iloc[test_indices], model.predict_proba(X.iloc[test_indices])[:,1]))\n",
    "    Coef[d] = model.coef_[0]\n",
    "    d+=1"
   ]
  },
  {
   "cell_type": "code",
<<<<<<< HEAD
   "execution_count": 135,
   "metadata": {
    "collapsed": true
   },
   "outputs": [],
=======
   "execution_count": 43,
   "metadata": {},
   "outputs": [
    {
     "name": "stdout",
     "output_type": "stream",
     "text": [
      "AUC (median-IQR): 0.71-(0.70-0.72)\n"
     ]
    },
    {
     "data": {
      "image/png": "iVBORw0KGgoAAAANSUhEUgAAAYgAAAFfCAYAAABUeFuxAAAABHNCSVQICAgIfAhkiAAAAAlwSFlz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\nA65VtWL06zJkAAAAAElFTkSuQmCC\n",
      "text/plain": [
       "<matplotlib.figure.Figure at 0x7fd5723b2d30>"
      ]
     },
     "metadata": {},
     "output_type": "display_data"
    }
   ],
>>>>>>> aeb09774651e8497e7df6fc477838e86a061fc0b
   "source": [
    "%matplotlib inline\n",
    "Coef= pd.DataFrame(Coef).T\n",
    "Coef.columns = X.columns\n",
    "OddRatios = np.exp(Coef.median()).to_frame()\n",
    "\n",
    "ax =plt.subplot(1,2,1)\n",
    "OddRatios.plot.bar(ax=ax,legend=False, title='Odd ratios')\n",
    "ax.title\n",
    "\n",
    "ax = plt.subplot(1,2,2)\n",
    "plt.hist(Scores, 20,facecolor='b', alpha=.7),plt.xlabel('AUC'), plt.title('Classification Performance')\n",
    "print('AUC (median-IQR): %.2f-(%.2f-%.2f)'%(np.median(Scores), np.percentile(Scores,5), np.percentile(Scores,95)))"
   ]
  },
  {
   "cell_type": "code",
   "execution_count": 37,
   "metadata": {},
   "outputs": [
    {
     "data": {
      "text/html": [
       "<div>\n",
       "<style>\n",
       "    .dataframe thead tr:only-child th {\n",
       "        text-align: right;\n",
       "    }\n",
       "\n",
       "    .dataframe thead th {\n",
       "        text-align: left;\n",
       "    }\n",
       "\n",
       "    .dataframe tbody tr th {\n",
       "        vertical-align: top;\n",
       "    }\n",
       "</style>\n",
       "<table border=\"1\" class=\"dataframe\">\n",
       "  <thead>\n",
       "    <tr style=\"text-align: right;\">\n",
       "      <th></th>\n",
       "      <th>0.025</th>\n",
       "      <th>0.5</th>\n",
       "      <th>0.975</th>\n",
       "    </tr>\n",
       "  </thead>\n",
       "  <tbody>\n",
       "    <tr>\n",
       "      <th>admission_type</th>\n",
       "      <td>0.622301</td>\n",
       "      <td>0.649067</td>\n",
       "      <td>0.674458</td>\n",
       "    </tr>\n",
       "    <tr>\n",
       "      <th>admission_location</th>\n",
       "      <td>0.827958</td>\n",
       "      <td>0.840351</td>\n",
       "      <td>0.853576</td>\n",
       "    </tr>\n",
       "    <tr>\n",
       "      <th>discharge_location</th>\n",
       "      <td>1.060166</td>\n",
       "      <td>1.065707</td>\n",
       "      <td>1.070654</td>\n",
       "    </tr>\n",
       "    <tr>\n",
       "      <th>insurance</th>\n",
       "      <td>0.779337</td>\n",
       "      <td>0.794869</td>\n",
       "      <td>0.809882</td>\n",
       "    </tr>\n",
       "    <tr>\n",
       "      <th>marital_status</th>\n",
       "      <td>1.199473</td>\n",
       "      <td>1.211872</td>\n",
       "      <td>1.225325</td>\n",
       "    </tr>\n",
       "    <tr>\n",
       "      <th>gender</th>\n",
       "      <td>1.024732</td>\n",
       "      <td>1.062457</td>\n",
       "      <td>1.121821</td>\n",
       "    </tr>\n",
       "    <tr>\n",
       "      <th>first_careunit</th>\n",
       "      <td>0.983068</td>\n",
       "      <td>1.022682</td>\n",
       "      <td>1.071266</td>\n",
       "    </tr>\n",
       "    <tr>\n",
       "      <th>last_careunit</th>\n",
       "      <td>0.843933</td>\n",
       "      <td>0.884008</td>\n",
       "      <td>0.927494</td>\n",
       "    </tr>\n",
       "  </tbody>\n",
       "</table>\n",
       "</div>"
      ],
      "text/plain": [
       "                       0.025     0.500     0.975\n",
       "admission_type      0.622301  0.649067  0.674458\n",
       "admission_location  0.827958  0.840351  0.853576\n",
       "discharge_location  1.060166  1.065707  1.070654\n",
       "insurance           0.779337  0.794869  0.809882\n",
       "marital_status      1.199473  1.211872  1.225325\n",
       "gender              1.024732  1.062457  1.121821\n",
       "first_careunit      0.983068  1.022682  1.071266\n",
       "last_careunit       0.843933  0.884008  0.927494"
      ]
     },
     "execution_count": 37,
     "metadata": {},
     "output_type": "execute_result"
    }
   ],
   "source": [
    "#ConfIntervals of odd ratios \n",
    "Conf = pd.DataFrame(columns=['2.5%', '50%', '97.5%'])\n",
    "np.exp(Coef.quantile([0.025, 0.5, 0.975]).T)"
   ]
  }
 ],
 "metadata": {
  "kernelspec": {
   "display_name": "Python [default]",
   "language": "python",
   "name": "python3"
  },
  "language_info": {
   "codemirror_mode": {
    "name": "ipython",
    "version": 3
   },
   "file_extension": ".py",
   "mimetype": "text/x-python",
   "name": "python",
   "nbconvert_exporter": "python",
   "pygments_lexer": "ipython3",
   "version": "3.6.2"
  }
 },
 "nbformat": 4,
 "nbformat_minor": 2
}
