{
 "cells": [
  {
   "cell_type": "markdown",
   "metadata": {},
   "source": [
    "# Exploring structured entries in MIMIC"
   ]
  },
  {
   "cell_type": "code",
   "execution_count": 1,
   "metadata": {},
   "outputs": [],
   "source": [
    "# Import libraries\n",
    "import numpy as np\n",
    "import pandas as pd\n",
    "import matplotlib.pyplot as plt\n",
    "import psycopg2\n",
    "\n",
    "# below imports are used to print out pretty pandas dataframes\n",
    "from IPython.display import display, HTML\n",
    "\n",
    "%matplotlib inline\n",
    "plt.style.use('ggplot')\n",
    "\n",
    "# information used to create a database connection\n",
    "sqluser = 'asamadan'\n",
    "dbname = 'mimic'\n",
    "schema_name = 'mimiciii'\n",
    "\n",
    "# Connect to postgres with a copy of the MIMIC-III database\n",
    "con = psycopg2.connect(dbname=dbname, user=sqluser)\n",
    "\n",
    "# # the below statement is prepended to queries to ensure they select from the right schema\n",
    "# query_schema = 'set search_path to ' + schema_name + ';'"
   ]
  },
  {
   "cell_type": "code",
   "execution_count": 2,
   "metadata": {},
   "outputs": [],
   "source": [
    "# read tables and set 'subject_id' as index\n",
    "Tables = ['admissions', \n",
    "          'patients', \n",
    "          'ICUstays',\n",
    "          'diagnoses_icd',\n",
    "          'procedures_icd',\n",
    "          'callout']\n",
    "for x in Tables:\n",
    "    exec(\"%s = pd.read_sql('select * from mimiciii.%s', con).set_index('subject_id', drop=False)\"%(x,x))\n",
    "    "
   ]
  },
  {
   "cell_type": "markdown",
   "metadata": {},
   "source": [
    "## Merge the tables\n",
    "- Admissions\n",
    "- Patients\n",
    "- ICUstays\n",
    "- Diagnosis\n",
    "    - There are multiple diagnosis for each patient. For now, the top diagnosis is used\n",
    "- Callout\n",
    "- Procedures_icd\n",
    "    - There are multiple procedures for each patient. For now, the top diagnosis is used\n"
   ]
  },
  {
   "cell_type": "code",
   "execution_count": 3,
   "metadata": {
    "collapsed": true
   },
   "outputs": [],
   "source": [
    "diagnoses_icd  = diagnoses_icd.groupby(diagnoses_icd.index).apply(lambda x:x[x['seq_num'] == 1])\n",
    "procedures_icd = procedures_icd.groupby(procedures_icd.index).apply(lambda x:x[x['seq_num'] == 1])\n",
    "# # confirming that only the top diagnosis is returned \n",
    "# diagnoses_icd.seq_num.value_counts()\n",
    "# procedures_icd.seq_num.value_counts()\n"
   ]
  },
  {
   "cell_type": "code",
   "execution_count": 4,
   "metadata": {
    "collapsed": true
   },
   "outputs": [],
   "source": [
    "# Merge the tables\n",
    "import functools\n",
    "\n",
    "# first merge admissions with patient based on 'subject_id'\n",
    "admissions       = pd.merge(admissions, patients[patients.columns.difference(admissions.columns)],\n",
    "                            how='left', left_index=True, right_index=True)\n",
    "\n",
    "# set 'hadm_id' as index for the remaning tables and admissions\n",
    "for x in ['admissions', 'ICUstays', 'diagnoses_icd', 'callout']:\n",
    "    eval(\"%s.set_index('hadm_id', drop=False, inplace=True)\"%x)\n",
    "    \n",
    "# then, merge the resulting admissions with the rest of the tables using 'hadm_id'\n",
    "dfs              = [admissions, ICUstays, diagnoses_icd, callout]\n",
    "# Data             = [pd.merge(left,right, how='left', on='subject_id') for left, right in zip(dfs, dfs[1:])]\n",
    "Data             = functools.reduce(lambda left,right: \n",
    "                                    pd.merge(left,right[right.columns.difference(left.columns)], \n",
    "                                             how='left', left_index=True, right_index=True), dfs)\n"
   ]
  },
  {
   "cell_type": "markdown",
   "metadata": {},
   "source": [
    "## FF vs NFF \n",
    "- This function takes admission for a subject and determines whether the subject is a FF or NFF\n"
   ]
  },
  {
   "cell_type": "code",
   "execution_count": 5,
   "metadata": {
    "collapsed": true
   },
   "outputs": [],
   "source": [
    "def SubjectCheck(subject):\n",
    "    data = None\n",
    "    NFF = 0\n",
    "    if len(subject) > 2:\n",
    "        Admission_Time = subject.admittime\n",
    "        # gaps between every second admissions\n",
    "        Inter_Admission_Gaps = np.array([(Admission_Time.iloc[x+2]-Admission_Time.iloc[x])/np.timedelta64(1, 'D')\n",
    "         for x in range(len(subject)-2)] )       \n",
    "\n",
    "        # for FF, we take their first admission\n",
    "        if sum(Inter_Admission_Gaps<365):\n",
    "            # take the first ICU admisson\n",
    "            # appending the label to the end of the array\n",
    "            return np.append(subject.iloc[np.where(Inter_Admission_Gaps<365)[0][0]].values, 1)\n",
    "        else: # not a FF\n",
    "            NFF = 1\n",
    "    \n",
    "    if len(subject) < 2 or NFF:\n",
    "        # check if the patient is still alive\n",
    "        if not(subject.expire_flag.iloc[0]):\n",
    "            # appending the label to the end of the array\n",
    "            return np.append(subject.iloc[0].values, 0)\n",
    "#         else: \n",
    "#             data = None\n",
    "#     return data\n",
    "        \n",
    "DATA = {}        \n",
    "for subject, subject_data in Data.groupby('subject_id'):\n",
    "     \n",
    "    DATA[subject] = SubjectCheck(subject_data)"
   ]
  },
  {
   "cell_type": "code",
   "execution_count": 6,
   "metadata": {
    "collapsed": true
   },
   "outputs": [],
   "source": [
    "# convert dictionary to dataframe and label as the last column\n",
    "DATA = dict((key,x) for key,x in DATA.items() if x is not None)\n",
    "a = pd.DataFrame.from_dict(DATA, orient='index')\n",
    "a.columns = np.append(Data.columns, 'Label')\n",
    "\n"
   ]
  },
  {
   "cell_type": "code",
   "execution_count": 7,
   "metadata": {},
   "outputs": [
    {
     "name": "stdout",
     "output_type": "stream",
     "text": [
      "4 days\n",
      "2 days 17:31:58\n"
     ]
    },
    {
     "data": {
      "text/plain": [
       "<matplotlib.axes._subplots.AxesSubplot at 0x7fed6b81a048>"
      ]
     },
     "execution_count": 7,
     "metadata": {},
     "output_type": "execute_result"
    },
    {
     "data": {
      "image/png": "[encoded data removed]",
      "text/plain": [
       "<matplotlib.figure.Figure at 0x7fed6b81fc50>"
      ]
     },
     "metadata": {},
     "output_type": "display_data"
    }
   ],
   "source": [
    "import sys \n",
    "a.admittime-a.dob\n",
    "a.dob.iloc[0],a.admittime.iloc[0]\n",
    "a.last_careunit.value_counts()\n",
    "print('%s'%np.percentile(a.dischtime - a.outtime,75).astype('timedelta64[D]'))\n",
    "print('%s'%(a.dischtime - a.outtime).median())\n",
    "\n",
    "aaF = (abs(a.dischtime.loc[a.Label==1]-a.outtime.loc[a.Label==1])/np.timedelta64(1,'D')) \n",
    "aaNF= (abs(a.dischtime.loc[a.Label==0]-a.outtime.loc[a.Label==0])/np.timedelta64(1,'D')) \n",
    "\n",
    "# replace close to zero values with epsilon\n",
    "aaF.loc[aaF<sys.float_info.epsilon] = sys.float_info.epsilon\n",
    "aaNF.loc[aaNF<sys.float_info.epsilon] = sys.float_info.epsilon\n",
    "\n",
    "\n",
    "pd.DataFrame({'FF': aaF, 'NFF': aaNF}).plot(kind='hist',alpha =0.5)"
   ]
  },
  {
   "cell_type": "markdown",
   "metadata": {},
   "source": [
    "# Structured variables:\n",
    "- Admission type\n",
    "- Admission location\n",
    "- Discharge location\n",
    "- Insurance type\n",
    "- Marital status\n",
    "- Diagnosis\n",
    "    - There are multiple diagnoses for each patient. There are two ways to handle this\n",
    "        1. Only consider the top diagnosis based on `seq_num` from `diagnoses_icd` table\n",
    "        2. Create one-hot-encoding of all icd codes, so that an icd code `A` is boolean features that will be `ON` if a patient is diagnosed to have `A`.\n",
    "    - A smaller set of diagnosis may be created by consolidated similar conditions e.g., \n",
    "    1. CORONARY ARTERY DISEASE\\CORONARY ARTERY BYPASS GRAFT /SDA \n",
    "    2. CORONARY ARTERY DISEASE\\CORONARY ARTERY BYPASS GRAFT/SDA (notice spacing differnce)\n",
    "    \n",
    "- Age (Admission time - DOB: a.admittime-a.dob)\n",
    "    - Probably, we need to bin the age into 3 to 4 groups (e.g., newborns?, $<$75, 75-89, $>$90)\n",
    "- Gender \n",
    "- Care unit   \n",
    "    - First care unit\n",
    "    - Last care unit\n",
    "- Length of stay (Icustays)\n",
    "\n",
    "- `CALLOUT`\n",
    " - Binary requests indicating special precausions requested for the patient in the subsequent ward\n",
    "     -`REQUEST_TELE`, `REQUEST_RESP`, `REQUEST_CDIFF`, `REQUEST_MRSA`, `REQUEST_VRE`\n",
    " - DISCHARGE_WARDID\n",
    "\n",
    "## Frequent flyer indicator\n",
    "    - Label column\n",
    "\n",
    "## Potential derived features\n",
    "- Admission time\n",
    "    - season\n",
    "    - time of the day\n",
    "    - day of the week (weekday vs weekend)\n",
    "- Discrepancies between first and last care units,\n",
    "    - First care unit == Last care unit (5% of patients have different first and last care units)\n",
    "    \n",
    "- Time between ICU discharge and hospital discharge\n",
    "    - Discharge time - Out time ==> (median = 2 days, IQR (1-4 days))\n",
    "        - I think this information is also available in the `CALLOUT` table\n",
    "    \n",
    "\n"
   ]
  },
  {
   "cell_type": "markdown",
   "metadata": {},
   "source": [
    "# Classification\n",
    "- Start with Logistic regression, evaluated using 100 (70/30% train/test) subsamples\n"
   ]
  },
  {
   "cell_type": "code",
   "execution_count": 8,
   "metadata": {
    "collapsed": true
   },
   "outputs": [],
   "source": [
    "# drop irrelevant col\n",
    "a.drop(['language', 'religion','ethnicity', 'diagnosis','icd9_code', 'acknowledge_status', 'callout_outcome', 'callout_service',\n",
    "       'dbsource', 'callout_status', 'curr_careunit', 'submit_careunit',\n",
    "       'row_id',\n",
    "       'subject_id',\n",
    "       'hadm_id',\n",
    "       'dischtime',\n",
    "       'deathtime',\n",
    "       'edregtime',\n",
    "       'edouttime',\n",
    "       'hospital_expire_flag',\n",
    "       'has_chartevents_data',\n",
    "       'dod',\n",
    "       'dod_hosp',\n",
    "       'dod_ssn',\n",
    "       'expire_flag',\n",
    "       'first_wardid',\n",
    "       'icustay_id',\n",
    "       'intime',\n",
    "       'last_wardid',\n",
    "       'outtime',\n",
    "       'seq_num',\n",
    "       'acknowledge_status',\n",
    "       'acknowledgetime',\n",
    "       'callout_outcome',\n",
    "       'callout_service',\n",
    "       'callout_status',\n",
    "       'callout_wardid',\n",
    "       'createtime',\n",
    "       'curr_careunit',\n",
    "       'curr_wardid',\n",
    "       'currentreservationtime',\n",
    "       'discharge_wardid',\n",
    "       'firstreservationtime',\n",
    "       'outcometime',\n",
    "       'submit_careunit',\n",
    "       'submit_wardid',\n",
    "       'updatetime'], axis=1, inplace=True)"
   ]
  },
  {
   "cell_type": "code",
   "execution_count": 9,
   "metadata": {
    "collapsed": true
   },
   "outputs": [],
   "source": [
    "# Compute Age and define bins\n",
    "Age = (a.admittime-a.dob)/np.timedelta64(1,'Y')\n",
    "Age.loc[np.logical_and(Age>0, Age<=1)]   = 1\n",
    "Age.loc[np.logical_and(Age>1, Age<=25)]  = 2\n",
    "Age.loc[np.logical_and(Age>25, Age<=50)] = 3\n",
    "Age.loc[np.logical_and(Age>50, Age<=75)] = 4\n",
    "Age.loc[np.logical_and(Age>75, Age<=90)] = 5\n",
    "Age.loc[Age<0]                           = 6\n",
    "a.drop(['admittime','dob'], axis=1, inplace=True)\n",
    "a.Age = Age"
   ]
  },
  {
   "cell_type": "code",
   "execution_count": 10,
   "metadata": {
    "collapsed": true
   },
   "outputs": [],
   "source": [
    "# prepare the data for classificaton\n",
    "Categorical_cols = a.select_dtypes(['object']).columns\n",
    "for x in Categorical_cols:\n",
    "    a[x] = a[x].astype('category')\n",
    "    a[x] = a[x].cat.codes"
   ]
  },
  {
   "cell_type": "code",
   "execution_count": 11,
   "metadata": {
    "collapsed": true
   },
   "outputs": [],
   "source": [
    "# I am going to remove the request cols for now as they are full of NaNs\n",
    "a.drop([x for x in a.columns if 'request' in x], axis=1, inplace=True)"
   ]
  },
  {
   "cell_type": "code",
   "execution_count": 12,
   "metadata": {
    "collapsed": true
   },
   "outputs": [],
   "source": [
    "X = a.iloc[:,:-1] # variables\n",
    "y = a.iloc[:,-1] #labels"
   ]
  },
  {
   "cell_type": "code",
   "execution_count": 13,
   "metadata": {},
   "outputs": [
    {
     "data": {
      "image/png": "[encoded data removed]",
      "text/plain": [
       "<matplotlib.figure.Figure at 0x7fed6b80e940>"
      ]
     },
     "metadata": {},
     "output_type": "display_data"
    }
   ],
   "source": [
    "# finding cols with NaN\n",
    "X.isnull().any()\n",
    "X.los.plot.hist(bins = 5)\n",
    "Los = X.los\n",
    "X.drop('los', axis=1, inplace=True)"
   ]
  },
  {
   "cell_type": "code",
   "execution_count": 15,
   "metadata": {},
   "outputs": [],
   "source": [
    "from sklearn.linear_model import LogisticRegression, SGDClassifier\n",
    "from sklearn.model_selection import train_test_split, StratifiedShuffleSplit, cross_val_score\n",
    "\n",
    "LR_clf  = LogisticRegression(penalty='l2')#, class_weight='balanced')\n",
    "# SGD_clf = SGDClassifier(loss='log', penalty='elasticnet', alpha = 0.01, l1_ratio=0.5, n_jobs=-1)\n",
    "\n",
    "RandomSplits = StratifiedShuffleSplit(n_splits=100, test_size=0.3)\n",
    "\n",
    "# Scores=cross_val_score(LR_clf, X, y, cv=RandomSplits, scoring='roc_auc')\n",
    "\n",
    "Coef = {}\n",
    "from sklearn.metrics import roc_auc_score\n",
    "Scores=[]\n",
    "d = 0\n",
    "for train_indices, test_indices in RandomSplits.split(X,y):\n",
    "    model = LR_clf.fit(X.iloc[train_indices], y.iloc[train_indices])\n",
    "    Scores.append(roc_auc_score(y.iloc[test_indices], model.predict_proba(X.iloc[test_indices])[:,1]))\n",
    "    Coef[d] = model.coef_[0]\n",
    "    d+=1"
   ]
  },
  {
   "cell_type": "code",
   "execution_count": 16,
   "metadata": {},
   "outputs": [
    {
     "name": "stdout",
     "output_type": "stream",
     "text": [
      "AUC (median-IQR): 0.71-(0.70-0.72)\n"
     ]
    },
    {
     "data": {
      "image/png": "[encoded data removed]",
      "text/plain": [
       "<matplotlib.figure.Figure at 0x7fed6bcb9668>"
      ]
     },
     "metadata": {},
     "output_type": "display_data"
    }
   ],
   "source": [
    "# %matplotlib\n",
    "Coef= pd.DataFrame(Coef).T\n",
    "Coef.columns = X.columns\n",
    "plt.subplot(1,2,1)\n",
    "Coef.abs().mean().plot.bar()\n",
    "\n",
    "plt.subplot(1,2,2)\n",
    "plt.hist(Scores, 20,facecolor='b', alpha=.7),plt.xlabel('AUC')\n",
    "print('AUC (median-IQR): %.2f-(%.2f-%.2f)'%(np.median(Scores), np.percentile(Scores,5), np.percentile(Scores,95)))"
   ]
  }
 ],
 "metadata": {
  "kernelspec": {
   "display_name": "Python [default]",
   "language": "python",
   "name": "python3"
  },
  "language_info": {
   "codemirror_mode": {
    "name": "ipython",
    "version": 3
   },
   "file_extension": ".py",
   "mimetype": "text/x-python",
   "name": "python",
   "nbconvert_exporter": "python",
   "pygments_lexer": "ipython3",
   "version": "3.6.2"
  }
 },
 "nbformat": 4,
 "nbformat_minor": 2
}
